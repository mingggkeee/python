{
 "metadata": {
  "language_info": {
   "codemirror_mode": {
    "name": "ipython",
    "version": 3
   },
   "file_extension": ".py",
   "mimetype": "text/x-python",
   "name": "python",
   "nbconvert_exporter": "python",
   "pygments_lexer": "ipython3",
   "version": "3.7.9-final"
  },
  "orig_nbformat": 2,
  "kernelspec": {
   "name": "python3",
   "display_name": "Python 3"
  }
 },
 "nbformat": 4,
 "nbformat_minor": 2,
 "cells": [
  {
   "cell_type": "code",
   "execution_count": 2,
   "metadata": {},
   "outputs": [],
   "source": [
    "import random # 모듈 가져오기 (미리 만들어져 있는 코드 파일 가져오기)"
   ]
  },
  {
   "cell_type": "code",
   "execution_count": 3,
   "metadata": {},
   "outputs": [
    {
     "output_type": "execute_result",
     "data": {
      "text/plain": [
       "37"
      ]
     },
     "metadata": {},
     "execution_count": 3
    }
   ],
   "source": [
    "random.randint(1,45)"
   ]
  },
  {
   "cell_type": "code",
   "execution_count": 8,
   "metadata": {},
   "outputs": [
    {
     "output_type": "stream",
     "name": "stdout",
     "text": [
      "[1, 12, 22, 32, 34, 36] 22.833333333333332\n[8, 9, 17, 22, 29, 41] 21.0\n[11, 12, 19, 33, 36, 45] 26.0\n[6, 13, 21, 24, 28, 37] 21.5\n[1, 8, 18, 30, 34, 35] 21.0\n"
     ]
    }
   ],
   "source": [
    "cnt = input(\"Input Game Count : \")\n",
    "\n",
    "for _ in range( int(cnt) ):\n",
    "\n",
    "    numbers = []\n",
    "\n",
    "    while True: #무한 반복\n",
    "        \n",
    "        numbers.clear() # 기존에 뽑힌 숫자 제거\n",
    "        \n",
    "        # for _ in range(6):\n",
    "        #     numbers.append( random.randint(1, 45) )\n",
    "        \n",
    "        while True:\n",
    "            no = random.randint(1,45)  # 난수 추출\n",
    "\n",
    "            if no in numbers: # 새로 뽑은 숫자가 이미 뽑힌 숫자와 중복되는 경우\n",
    "                continue\n",
    "\n",
    "            numbers.append(no)\n",
    "\n",
    "            if len(numbers) == 6: # 6개의 숫자가 뽑힌 경우\n",
    "                break\n",
    "\n",
    "        total = 0\n",
    "        for n in numbers:\n",
    "            total += n\n",
    "\n",
    "        avg = total / 6\n",
    "        # sum(numbers), len(numbers), sum(numbers) / len(numbers)\n",
    "       \n",
    "        \n",
    "        if avg >=20 and avg <=26:\n",
    "            break\n",
    "\n",
    "    numbers.sort()\n",
    "    print(numbers, avg)\n",
    "    "
   ]
  },
  {
   "cell_type": "code",
   "execution_count": 24,
   "metadata": {},
   "outputs": [
    {
     "output_type": "stream",
     "name": "stdout",
     "text": [
      "3\n2\nYou Win !!\n"
     ]
    }
   ],
   "source": [
    "# 사용자 입력 : 1- 가위, 2- 바위, 3- 보\n",
    "# random -> 1 or 2 or 3 선택\n",
    "# 결과 출력\n",
    "import random\n",
    "\n",
    "user = input(\"가위 바위 보를 선택하세요 (1:가위, 2:바위, 3:보) : \")\n",
    "user = int(user)\n",
    "print(user)\n",
    "\n",
    "com = random.randint(1, 3)\n",
    "print(com)\n",
    "\n",
    "if (user == 1 and com == 3) or (user == 2 and com == 1) or (user == 3 and com == 2):\n",
    "    print('You Win !!')\n",
    "elif user == com:\n",
    "    print(\"Draw !!!\")\n",
    "else:\n",
    "    print(\"You Lose !!!\")"
   ]
  },
  {
   "cell_type": "code",
   "execution_count": 45,
   "metadata": {},
   "outputs": [
    {
     "output_type": "stream",
     "name": "stdout",
     "text": [
      "1 * 1 =  1  2 * 1 =  2  3 * 1 =  3  4 * 1 =  4  5 * 1 =  5  6 * 1 =  6  7 * 1 =  7  8 * 1 =  8  9 * 1 =  9  \n1 * 2 =  2  2 * 2 =  4  3 * 2 =  6  4 * 2 =  8  5 * 2 = 10  6 * 2 = 12  7 * 2 = 14  8 * 2 = 16  9 * 2 = 18  \n1 * 3 =  3  2 * 3 =  6  3 * 3 =  9  4 * 3 = 12  5 * 3 = 15  6 * 3 = 18  7 * 3 = 21  8 * 3 = 24  9 * 3 = 27  \n1 * 4 =  4  2 * 4 =  8  3 * 4 = 12  4 * 4 = 16  5 * 4 = 20  6 * 4 = 24  7 * 4 = 28  8 * 4 = 32  9 * 4 = 36  \n1 * 5 =  5  2 * 5 = 10  3 * 5 = 15  4 * 5 = 20  5 * 5 = 25  6 * 5 = 30  7 * 5 = 35  8 * 5 = 40  9 * 5 = 45  \n1 * 6 =  6  2 * 6 = 12  3 * 6 = 18  4 * 6 = 24  5 * 6 = 30  6 * 6 = 36  7 * 6 = 42  8 * 6 = 48  9 * 6 = 54  \n1 * 7 =  7  2 * 7 = 14  3 * 7 = 21  4 * 7 = 28  5 * 7 = 35  6 * 7 = 42  7 * 7 = 49  8 * 7 = 56  9 * 7 = 63  \n1 * 8 =  8  2 * 8 = 16  3 * 8 = 24  4 * 8 = 32  5 * 8 = 40  6 * 8 = 48  7 * 8 = 56  8 * 8 = 64  9 * 8 = 72  \n1 * 9 =  9  2 * 9 = 18  3 * 9 = 27  4 * 9 = 36  5 * 9 = 45  6 * 9 = 54  7 * 9 = 63  8 * 9 = 72  9 * 9 = 81  \n"
     ]
    }
   ],
   "source": [
    "# 구구단 출력\n",
    "\n",
    "for y in range(1,10):\n",
    "    for x in range(1,10):\n",
    "        # print((x, y, x*y) , end=' ')\n",
    "        print('%d * %d = %2d' %(x,y,x*y), end = '  ')\n",
    "    print()"
   ]
  },
  {
   "cell_type": "code",
   "execution_count": 51,
   "metadata": {},
   "outputs": [
    {
     "output_type": "stream",
     "name": "stdout",
     "text": [
      "8 * 1 = 8\n8 * 2 = 16\n8 * 3 = 24\n8 * 4 = 32\n8 * 5 = 40\n8 * 6 = 48\n8 * 7 = 56\n8 * 8 = 64\n8 * 9 = 72\n"
     ]
    }
   ],
   "source": [
    "# 사용자 입력 (1~9) -> 해당 단의 구구단 출력\n",
    "no = int(input(\"출력할 구구단의 단 : \"))\n",
    "# no = int(no)\n",
    "for idx in range(1,10):\n",
    "    print(\"{0} * {1} = {2}\".format(no, idx, no * idx))"
   ]
  },
  {
   "cell_type": "code",
   "execution_count": null,
   "metadata": {},
   "outputs": [],
   "source": []
  }
 ]
}