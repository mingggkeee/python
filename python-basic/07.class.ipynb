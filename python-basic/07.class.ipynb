{
 "metadata": {
  "language_info": {
   "codemirror_mode": {
    "name": "ipython",
    "version": 3
   },
   "file_extension": ".py",
   "mimetype": "text/x-python",
   "name": "python",
   "nbconvert_exporter": "python",
   "pygments_lexer": "ipython3",
   "version": "3.7.9-final"
  },
  "orig_nbformat": 2,
  "kernelspec": {
   "name": "python3",
   "display_name": "Python 3"
  }
 },
 "nbformat": 4,
 "nbformat_minor": 2,
 "cells": [
  {
   "cell_type": "code",
   "execution_count": 25,
   "metadata": {},
   "outputs": [],
   "source": [
    "class Employee:\n",
    "    '직원 정보를 관리하는 클래스'\n",
    "\n",
    "    empCount = 0 # Employee 클래스를 사용해서 만들어지는 모든 인스턴스가 공유하는 멤버, 클래스를 통해서 접근\n",
    "\n",
    "    def __init__(self, name, salary):  # 첫 번째 전달인자는 self를 써야한다. 생성자 메서드 : 인스턴스가 만들어질 때 자동으로 호출되는 메서드 (인스턴스 초기화 목적)\n",
    "        self.name = name\n",
    "        self.salary = salary\n",
    "        Employee.empCount += 1\n",
    "        print('생성자 메서드입니다.')\n",
    "\n",
    "    def display_empcount(self):\n",
    "        print(\"Total Employees : {0}\".format(Employee.empCount))\n",
    "\n",
    "    def display_employee(self):\n",
    "        print(\"[Name : {0}][Salary : {1}]\".format(self.name, self.salary))"
   ]
  },
  {
   "cell_type": "code",
   "execution_count": 26,
   "metadata": {},
   "outputs": [
    {
     "output_type": "stream",
     "name": "stdout",
     "text": [
      "생성자 메서드입니다.\n생성자 메서드입니다.\n생성자 메서드입니다.\n[Name : 주민기][Salary : 10000000]\nTotal Employees : 3\n[Name : 김성규][Salary : 2000000]\nTotal Employees : 3\n[Name : 김근휘][Salary : 200000]\nTotal Employees : 3\n"
     ]
    }
   ],
   "source": [
    "emp1 = Employee('주민기', 10000000)  # --> emp1.name = '주민기'\n",
    "emp2 = Employee('김성규', 2000000)\n",
    "emp3 = Employee('김근휘', 200000)\n",
    "\n",
    "emp1.display_employee()\n",
    "emp1.display_empcount()\n",
    "emp2.display_employee()\n",
    "emp2.display_empcount()\n",
    "emp3.display_employee()\n",
    "emp3.display_empcount()"
   ]
  },
  {
   "cell_type": "code",
   "execution_count": 27,
   "metadata": {},
   "outputs": [
    {
     "output_type": "stream",
     "name": "stdout",
     "text": [
      "Class is created! Value =  10\nClass is deleted!\n"
     ]
    }
   ],
   "source": [
    "class MyClass:\n",
    "    def __init__(self, value):\n",
    "        self.Value = value\n",
    "        print(\"Class is created! Value = \", value)\n",
    "\n",
    "    def __del__(self):\n",
    "        print(\"Class is deleted!\")\n",
    "\n",
    "def foo():\n",
    "    d = MyClass(10)\n",
    "\n",
    "foo()"
   ]
  },
  {
   "cell_type": "code",
   "execution_count": 31,
   "metadata": {},
   "outputs": [],
   "source": [
    "class Test:\n",
    "    @classmethod\n",
    "    def class_method(cls):\n",
    "        print(cls)\n",
    "        print('class method')\n",
    "\n",
    "    @staticmethod\n",
    "    def static_method():\n",
    "        print('static method')\n",
    "\n",
    "    def method(self):\n",
    "        print(\"method\")"
   ]
  },
  {
   "cell_type": "code",
   "execution_count": 35,
   "metadata": {},
   "outputs": [
    {
     "output_type": "stream",
     "name": "stdout",
     "text": [
      "<class '__main__.Test'>\nclass method\nstatic method\n"
     ]
    }
   ],
   "source": [
    "Test.class_method()\n",
    "Test.static_method()\n",
    "# Test.method() 인스턴스 메서드는 클래스로 접근할 수 없습니다."
   ]
  },
  {
   "cell_type": "code",
   "execution_count": 36,
   "metadata": {},
   "outputs": [],
   "source": [
    "class Parent: # define parent class\n",
    "    parentAttr = 100\n",
    "    def __init__(self):\n",
    "        print (\"Calling parent constructor\")\n",
    "\n",
    "    def parentMethod(self):\n",
    "        print ('Calling parent method')\n",
    "\n",
    "    def setAttr(self, attr):\n",
    "        Parent.parentAttr = attr\n",
    "\n",
    "    def getAttr(self):\n",
    "        print (\"Parent attribute :\", Parent.parentAttr)\n",
    "\n",
    "class Child(Parent): # define child class\n",
    "    def __init__(self):\n",
    "        print (\"Calling child constructor\")\n",
    "        \n",
    "    def childMethod(self):\n",
    "        print ('Calling child method')"
   ]
  },
  {
   "cell_type": "code",
   "execution_count": 39,
   "metadata": {},
   "outputs": [
    {
     "output_type": "stream",
     "name": "stdout",
     "text": [
      "Calling child constructor\nCalling child method\nCalling parent method\nParent attribute : 200\n"
     ]
    }
   ],
   "source": [
    "c = Child() # instance of child\n",
    "c.childMethod() # child calls its method\n",
    "c.parentMethod() # calls parent's method\n",
    "c.setAttr(200) # again call parent's method\n",
    "c.getAttr() # again call parent's method"
   ]
  },
  {
   "cell_type": "code",
   "execution_count": 40,
   "metadata": {},
   "outputs": [
    {
     "output_type": "execute_result",
     "data": {
      "text/plain": [
       "True"
      ]
     },
     "metadata": {},
     "execution_count": 40
    }
   ],
   "source": [
    "# issubclass(자식클래스, 부모클래스) → 상속 관계 확인\n",
    "\n",
    "issubclass(Child, Parent) # True  \n",
    "issubclass(Parent, Child) # False\n",
    "issubclass(Parent, Parent) # True\n",
    "issubclass(Parent, object) # True\n",
    "issubclass(Child, object) # True"
   ]
  },
  {
   "cell_type": "code",
   "execution_count": 44,
   "metadata": {},
   "outputs": [
    {
     "output_type": "execute_result",
     "data": {
      "text/plain": [
       "((object,), (__main__.Parent,))"
      ]
     },
     "metadata": {},
     "execution_count": 44
    }
   ],
   "source": [
    "Parent.__bases__, Child.__bases__"
   ]
  },
  {
   "cell_type": "code",
   "execution_count": 57,
   "metadata": {},
   "outputs": [],
   "source": [
    "class Person:\n",
    "    \" 부모 클래스 \"\n",
    "    def __init__(self, name, phoneNumber):\n",
    "        self.Name = name\n",
    "        self.PhoneNumber = phoneNumber\n",
    "\n",
    "    def PrintInfo(self):\n",
    "        print(\"Info(Name:{0}, Phone Number: {1})\".format(self.Name, self.PhoneNumber))\n",
    "\n",
    "    def PrintPersonData(self):\n",
    "        print(\"Person(Name:{0}, Phone Number: {1})\".format(self.Name, self.PhoneNumber))\n",
    "\n",
    "class Student(Person):\n",
    "    \" 자식 클래스 \"\n",
    "    def __init__(self, name, phoneNumber, subject, studentID):\n",
    "        # self.Name = name\n",
    "        # self.PhoneNumber = phoneNumber\n",
    "        Person.__init__(self, name, phoneNumber)\n",
    "        self.Subject = subject\n",
    "        self.StudentID = studentID\n",
    "\n",
    "    def PrintInfo(self):\n",
    "        Person.PrintPersonData(self)\n",
    "        print(\"Info(Subject:{0}, Student ID:{1})\".format(self.Subject, self.StudentID))"
   ]
  },
  {
   "cell_type": "code",
   "execution_count": 58,
   "metadata": {},
   "outputs": [
    {
     "output_type": "stream",
     "name": "stdout",
     "text": [
      "Person(Name:주민기, Phone Number: 010-4252-4563)\nPerson(Name:주민기, Phone Number: 010-4252-4563)\nInfo(Subject:bigdata, Student ID:15109372)\n"
     ]
    }
   ],
   "source": [
    "s = Student('주민기', '010-4252-4563', 'bigdata', '15109372')\n",
    "s.PrintPersonData()\n",
    "s.PrintInfo()"
   ]
  },
  {
   "cell_type": "code",
   "execution_count": 59,
   "metadata": {},
   "outputs": [],
   "source": [
    "# 파이썬은 다중 상속 지원\n",
    "\n",
    "class Tiger:\n",
    "    def Jump(self):\n",
    "        print(\"호랑이처럼 멀리 점프하기\")\n",
    "\n",
    "class Lion:\n",
    "    def Bite(self):\n",
    "        print(\"사자처럼 한입에 꿀꺽하기\")\n",
    "\n",
    "class Liger(Tiger, Lion):\n",
    "    def Play(self):\n",
    "        print(\"라이거만의 사육사와 재미있게 놀기\")"
   ]
  },
  {
   "cell_type": "code",
   "execution_count": 60,
   "metadata": {},
   "outputs": [
    {
     "output_type": "stream",
     "name": "stdout",
     "text": [
      "호랑이처럼 멀리 점프하기\n사자처럼 한입에 꿀꺽하기\n라이거만의 사육사와 재미있게 놀기\n"
     ]
    }
   ],
   "source": [
    "l = Liger()\n",
    "l.Jump()\n",
    "l.Bite()\n",
    "l.Play()"
   ]
  },
  {
   "cell_type": "code",
   "execution_count": 2,
   "metadata": {},
   "outputs": [],
   "source": [
    "# 파이썬은 다중 상속 지원 메서드 이름 중복시 앞에 상속된 클래스 메서드 호출\n",
    "\n",
    "class Tiger:\n",
    "    def Jump(self):\n",
    "        print(\"호랑이처럼 멀리 점프하기\")\n",
    "    def Cry(self):\n",
    "        print(\"호랑이: 어흥~\")\n",
    "\n",
    "class Lion:\n",
    "    def Bite(self):\n",
    "        print(\"사자처럼 한입에 꿀꺽하기\")\n",
    "    def Cry(self):\n",
    "        print(\"사자: 으르렁~\")\n",
    "\n",
    "class Liger(Tiger, Lion):\n",
    "    def Play(self):\n",
    "        print(\"라이거만의 사육사와 재미있게 놀기\")\n",
    "    def Cry(self, tiger=True):\n",
    "        if tiger:\n",
    "            Tiger.Cry(self)\n",
    "        else:\n",
    "            Lion.Cry(self)"
   ]
  },
  {
   "cell_type": "code",
   "execution_count": 3,
   "metadata": {},
   "outputs": [
    {
     "output_type": "stream",
     "name": "stdout",
     "text": [
      "호랑이처럼 멀리 점프하기\n사자: 으르렁~\n사자처럼 한입에 꿀꺽하기\n라이거만의 사육사와 재미있게 놀기\n"
     ]
    }
   ],
   "source": [
    "l = Liger()\n",
    "l.Jump()\n",
    "l.Cry(False)\n",
    "l.Bite()\n",
    "l.Play()"
   ]
  },
  {
   "cell_type": "code",
   "execution_count": 63,
   "metadata": {},
   "outputs": [],
   "source": [
    "# super() 메서드를 사용해서 부모 클래스의 생성자 메서드 호출 가능\n",
    "\n",
    "class Animal:\n",
    "    def __init__(self):\n",
    "        print(\"Animal __init__()\")\n",
    "\n",
    "class Tiger(Animal):\n",
    "    def __init__(self):\n",
    "        super().__init__()\n",
    "        print(\"Tiger __init__()\")\n",
    "\n",
    "class Lion(Animal):\n",
    "    def __init__(self):\n",
    "        super().__init__()\n",
    "        print(\"Lion __init__()\")\n",
    "\n",
    "class Liger(Tiger, Lion):\n",
    "    def __init__(self):\n",
    "        super().__init__()\n",
    "        print(\"Liger __init__()\")"
   ]
  },
  {
   "cell_type": "code",
   "execution_count": 64,
   "metadata": {},
   "outputs": [
    {
     "output_type": "stream",
     "name": "stdout",
     "text": [
      "Animal __init__()\nLion __init__()\nTiger __init__()\nLiger __init__()\n"
     ]
    },
    {
     "output_type": "execute_result",
     "data": {
      "text/plain": [
       "<__main__.Liger at 0x1b884b87310>"
      ]
     },
     "metadata": {},
     "execution_count": 64
    }
   ],
   "source": [
    "Liger()"
   ]
  },
  {
   "cell_type": "code",
   "execution_count": 19,
   "metadata": {},
   "outputs": [],
   "source": [
    "# 연락처 {\"no\": 1, \"name\": 'id', \"email\": 'e', \"phone\": 'p' }\n",
    "class Contact:\n",
    "    '연락처 정보를 저장하는 클래스'\n",
    "    def __init__(self, no, name, email, phone):\n",
    "        self.no = no\n",
    "        self.name = name\n",
    "        self.email = email\n",
    "        self.phone = phone\n",
    "\n",
    "    def __getitem__(self, key):\n",
    "        return getattr(self, key)\n",
    "\n",
    "    def to_dict(self):\n",
    "        return { 'no': self.no, 'name': self.name, 'email': self.email, 'phone': self.phone }\n",
    "\n",
    "    def contact_info(self):\n",
    "        return \"[{0}][{1}][{2}][{3}]\".format(self.no, self.name, self.email, self.phone)"
   ]
  },
  {
   "cell_type": "code",
   "execution_count": 20,
   "metadata": {},
   "outputs": [
    {
     "output_type": "stream",
     "name": "stdout",
     "text": [
      "{'no': 1, 'name': '주민기', 'email': 'mksu234@naver.com', 'phone': '010-4252-4563'}\n[1][주민기][mksu234@naver.com][010-4252-4563]\n"
     ]
    }
   ],
   "source": [
    "c = Contact(1, '주민기', 'mksu234@naver.com', '010-4252-4563')\n",
    "print(c.to_dict())\n",
    "print(c.contact_info() )"
   ]
  },
  {
   "cell_type": "code",
   "execution_count": 22,
   "metadata": {},
   "outputs": [
    {
     "output_type": "execute_result",
     "data": {
      "text/plain": [
       "('주민기', 1)"
      ]
     },
     "metadata": {},
     "execution_count": 22
    }
   ],
   "source": [
    "getattr(c, 'name'), c['no']"
   ]
  },
  {
   "cell_type": "code",
   "execution_count": null,
   "metadata": {},
   "outputs": [],
   "source": []
  }
 ]
}