{
 "metadata": {
  "language_info": {
   "codemirror_mode": {
    "name": "ipython",
    "version": 3
   },
   "file_extension": ".py",
   "mimetype": "text/x-python",
   "name": "python",
   "nbconvert_exporter": "python",
   "pygments_lexer": "ipython3",
   "version": "3.7.9-final"
  },
  "orig_nbformat": 2,
  "kernelspec": {
   "name": "python3",
   "display_name": "Python 3"
  }
 },
 "nbformat": 4,
 "nbformat_minor": 2,
 "cells": [
  {
   "cell_type": "code",
   "execution_count": null,
   "metadata": {},
   "outputs": [],
   "source": [
    "print('hello, python with vs code')\n",
    "print('test')\n",
    "print('test2')"
   ]
  },
  {
   "cell_type": "code",
   "execution_count": 3,
   "metadata": {},
   "outputs": [],
   "source": [
    "a = \"Life is too short, You need Python\""
   ]
  },
  {
   "cell_type": "code",
   "execution_count": 4,
   "metadata": {},
   "outputs": [
    {
     "output_type": "execute_result",
     "data": {
      "text/plain": [
       "('L', 's', 'y')"
      ]
     },
     "metadata": {},
     "execution_count": 4
    }
   ],
   "source": [
    "a[0], a[12], a[-5]"
   ]
  },
  {
   "cell_type": "code",
   "execution_count": 5,
   "metadata": {},
   "outputs": [
    {
     "output_type": "execute_result",
     "data": {
      "text/plain": [
       "('o sho', 'eed P', 'if')"
      ]
     },
     "metadata": {},
     "execution_count": 5
    }
   ],
   "source": [
    "a[10:15], a[-10:-5], a[1:3]"
   ]
  },
  {
   "cell_type": "code",
   "execution_count": 14,
   "metadata": {},
   "outputs": [
    {
     "output_type": "stream",
     "name": "stdout",
     "text": [
      "27.5\n17.833333333333332\n25.833333333333332\n"
     ]
    },
    {
     "output_type": "execute_result",
     "data": {
      "text/plain": [
       "([32, 22, 25, 17, 34, 25], 25.833333333333332)"
      ]
     },
     "metadata": {},
     "execution_count": 14
    }
   ],
   "source": [
    "import random\n",
    "\n",
    "numbers = []\n",
    "\n",
    "while True: #무한 반복\n",
    "    numbers.clear() \n",
    "    \n",
    "    for _ in range(6):\n",
    "        numbers.append( random.randint(1, 45) )\n",
    "    \n",
    "    # numbers.sort()\n",
    "    # numbers\n",
    "\n",
    "    total = 0\n",
    "    for n in numbers:\n",
    "        total += n\n",
    "\n",
    "    avg = total / 6\n",
    "    # sum(numbers), len(numbers), sum(numbers) / len(numbers)\n",
    "    print(avg)\n",
    "    \n",
    "    if avg >=20 and avg <=26:\n",
    "        break\n",
    "\n",
    "numbers, avg"
   ]
  }
 ]
}